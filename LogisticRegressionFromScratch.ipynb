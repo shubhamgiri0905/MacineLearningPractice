{
  "nbformat": 4,
  "nbformat_minor": 0,
  "metadata": {
    "colab": {
      "provenance": [],
      "authorship_tag": "ABX9TyP7Mmsw8YI6ePvY6Xphqmip",
      "include_colab_link": true
    },
    "kernelspec": {
      "name": "python3",
      "display_name": "Python 3"
    },
    "language_info": {
      "name": "python"
    }
  },
  "cells": [
    {
      "cell_type": "markdown",
      "metadata": {
        "id": "view-in-github",
        "colab_type": "text"
      },
      "source": [
        "<a href=\"https://colab.research.google.com/github/shubhamgiri0905/MacineLearningPractice/blob/main/LogisticRegressionFromScratch.ipynb\" target=\"_parent\"><img src=\"https://colab.research.google.com/assets/colab-badge.svg\" alt=\"Open In Colab\"/></a>"
      ]
    },
    {
      "cell_type": "code",
      "execution_count": 1,
      "metadata": {
        "id": "nlAGcYDsIKIE"
      },
      "outputs": [],
      "source": [
        "#step 1: Import Libraries\n",
        "\n",
        "import numpy as np\n",
        "\n",
        "#step 2 : Create the dataset {x = number of study hours, y=Pass/fail}\n",
        "x = np.array([1,2,3,4,5,6], dtype=float)\n",
        "y = np.array([0,0,0,1,1,1], dtype=float) # 0= fail class ,1= pass class"
      ]
    },
    {
      "cell_type": "code",
      "source": [
        "# Step 3:Initialize the parameters m,b,learning rate\n",
        "\n",
        "m = 2\n",
        "b = 1\n",
        "lr = 0.1"
      ],
      "metadata": {
        "id": "ftKrzZeJJQkk"
      },
      "execution_count": 2,
      "outputs": []
    },
    {
      "cell_type": "code",
      "source": [
        "#Step 4: Sigmoid Function\n",
        "def sigmoid(z):\n",
        "  return 1/(1+np.exp(-z))"
      ],
      "metadata": {
        "id": "uNAxxM4YJjHz"
      },
      "execution_count": 3,
      "outputs": []
    },
    {
      "cell_type": "code",
      "source": [
        "# Define Prediction Probability Function\n",
        "def predict_probability(x,m,b):\n",
        "  z = m*x + b\n",
        "  return sigmoid(z)"
      ],
      "metadata": {
        "id": "ZtolnZ-3KPj8"
      },
      "execution_count": 21,
      "outputs": []
    },
    {
      "cell_type": "code",
      "source": [
        "#step 6: Binary cross entropy loss\n",
        "def binary_cross_entropy_loss(x,y,m,b):\n",
        "  y_pred = predict_probability(x,m,b)\n",
        "\n",
        "  return -np.mean(y*np.log(y_pred) + (1-y)*np.log(1-y_pred))"
      ],
      "metadata": {
        "id": "xIAyf1qjKkpA"
      },
      "execution_count": 9,
      "outputs": []
    },
    {
      "cell_type": "code",
      "source": [
        "# Step 7: gradient descent step\n",
        "\n",
        "def gradient_descent_step(x,y,m,b,lr):\n",
        "  y_pred = predict_probability(x,m,b)\n",
        "  m_gradient = np.mean((y_pred-y)*x)\n",
        "  b_gradient = np.mean(y_pred-y)\n",
        "  m = m - lr*m_gradient\n",
        "  b = b - lr*b_gradient\n",
        "  return m,b"
      ],
      "metadata": {
        "id": "rIq7Ee0zLnea"
      },
      "execution_count": 11,
      "outputs": []
    },
    {
      "cell_type": "code",
      "source": [
        "# Step 8: Training loop\n",
        "\n",
        "epochs = 1200\n",
        "\n",
        "for i in range(epochs):\n",
        "  m,b = gradient_descent_step(x,y,m,b,lr)\n",
        "  if i%100 ==0:\n",
        "    loss = binary_cross_entropy_loss(x,y,m,b)\n",
        "    print(f\"Epoch {i}:,m ={m:.4f}, b ={b:.4f} , Loss = {loss:.4f}\")"
      ],
      "metadata": {
        "colab": {
          "base_uri": "https://localhost:8080/"
        },
        "id": "QDjac3--L_Sk",
        "outputId": "87e1b5d3-fc86-47ed-e505-f4c1f041b249"
      },
      "execution_count": 17,
      "outputs": [
        {
          "output_type": "stream",
          "name": "stdout",
          "text": [
            "Epoch 0:,m =2.6783, b =-9.1795 , Loss = 0.0851\n",
            "Epoch 100:,m =2.7115, b =-9.2971 , Loss = 0.0836\n",
            "Epoch 200:,m =2.7439, b =-9.4122 , Loss = 0.0822\n",
            "Epoch 300:,m =2.7757, b =-9.5249 , Loss = 0.0808\n",
            "Epoch 400:,m =2.8069, b =-9.6353 , Loss = 0.0795\n",
            "Epoch 500:,m =2.8375, b =-9.7437 , Loss = 0.0782\n",
            "Epoch 600:,m =2.8675, b =-9.8499 , Loss = 0.0770\n",
            "Epoch 700:,m =2.8969, b =-9.9542 , Loss = 0.0758\n",
            "Epoch 800:,m =2.9259, b =-10.0566 , Loss = 0.0747\n",
            "Epoch 900:,m =2.9543, b =-10.1573 , Loss = 0.0736\n",
            "Epoch 1000:,m =2.9823, b =-10.2562 , Loss = 0.0725\n",
            "Epoch 1100:,m =3.0098, b =-10.3535 , Loss = 0.0715\n"
          ]
        }
      ]
    },
    {
      "cell_type": "code",
      "source": [
        "#STEP 9: test/predict\n",
        "def predict_class(x,m,b):\n",
        "  prob = predict_probability(x,m,b)\n",
        "  if prob >= 0.5:\n",
        "    return 1\n",
        "  else:\n",
        "    return 0"
      ],
      "metadata": {
        "id": "HOOaLDhZQpfY"
      },
      "execution_count": 18,
      "outputs": []
    },
    {
      "cell_type": "code",
      "source": [
        "x_test = 4.5\n",
        "predicted_class = predict_class(x_test,m,b)\n",
        "print(f\"Predicted class for x = {x_test}: {predicted_class}\")"
      ],
      "metadata": {
        "colab": {
          "base_uri": "https://localhost:8080/"
        },
        "id": "rlRlq6KnRBxb",
        "outputId": "29d2a2ba-3961-46f9-a11c-defaf01bd260"
      },
      "execution_count": 20,
      "outputs": [
        {
          "output_type": "stream",
          "name": "stdout",
          "text": [
            "Predicted class for x = 4.5: 1\n"
          ]
        }
      ]
    }
  ]
}