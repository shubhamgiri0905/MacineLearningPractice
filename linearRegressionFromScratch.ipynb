{
  "nbformat": 4,
  "nbformat_minor": 0,
  "metadata": {
    "colab": {
      "provenance": [],
      "authorship_tag": "ABX9TyOou1T9lMNy0TmzHLNDN+IA",
      "include_colab_link": true
    },
    "kernelspec": {
      "name": "python3",
      "display_name": "Python 3"
    },
    "language_info": {
      "name": "python"
    }
  },
  "cells": [
    {
      "cell_type": "markdown",
      "metadata": {
        "id": "view-in-github",
        "colab_type": "text"
      },
      "source": [
        "<a href=\"https://colab.research.google.com/github/shubhamgiri0905/MacineLearningPractice/blob/main/linearRegressionFromScratch.ipynb\" target=\"_parent\"><img src=\"https://colab.research.google.com/assets/colab-badge.svg\" alt=\"Open In Colab\"/></a>"
      ]
    },
    {
      "cell_type": "code",
      "execution_count": 2,
      "metadata": {
        "id": "MkkOjF1KARrp"
      },
      "outputs": [],
      "source": [
        "#Step 1: Import Libraries\n",
        "import pandas as pd\n",
        "import numpy as np\n",
        "#Step 2: Create dataset(x and y)\n",
        "\n",
        "x = np.array([1,2,3,4,5], dtype=float)\n",
        "y = np.array([3,5,7,9,11], dtype=float)"
      ]
    },
    {
      "cell_type": "code",
      "source": [
        "#Step 3:initialize the parameters\n",
        "\n",
        "m = 0.25\n",
        "b = 0\n",
        "learning_rate = 0.01\n"
      ],
      "metadata": {
        "id": "NezSCrdqBDxg"
      },
      "execution_count": 4,
      "outputs": []
    },
    {
      "cell_type": "code",
      "source": [
        "# Step 4:prediction function\n",
        "def prediction(m,b,x):\n",
        "    return m*x+b\n",
        "#Step 5: Define the loss function\n",
        "def loss(m,b,x,y):\n",
        "    return np.mean((y-(m*x+b))**2)\n"
      ],
      "metadata": {
        "id": "pwhRJbKvBYFh"
      },
      "execution_count": 6,
      "outputs": []
    },
    {
      "cell_type": "code",
      "source": [
        "#Step 6: Gradient Descent Update rules:\n",
        "\n",
        "def gradient_descent_step(x,y,m,b,learning_rate):\n",
        "    m_gradient = -2*np.mean(x*(y-(m*x+b)))\n",
        "    b_gradient = -2*np.mean(y-(m*x+b))\n",
        "    m = m - learning_rate*m_gradient\n",
        "    b = b - learning_rate*b_gradient\n",
        "    return m,b\n",
        "\n",
        "\n"
      ],
      "metadata": {
        "id": "sbJlHIpoBoIi"
      },
      "execution_count": 8,
      "outputs": []
    },
    {
      "cell_type": "code",
      "source": [
        "#Step 7: Training Loop\n",
        "\n",
        "epochs = 1000\n",
        "for i in range(epochs):\n",
        "    m,b = gradient_descent_step(x,y,m,b,learning_rate)\n",
        "    if i%200 == 0:\n",
        "        print(f\"Epoch {i}: Loss = {loss(m,b,x,y)}\")"
      ],
      "metadata": {
        "colab": {
          "base_uri": "https://localhost:8080/"
        },
        "id": "qavDcHIpDX_0",
        "outputId": "40bfeadf-2c32-4ffc-9522-ab37623c7101"
      },
      "execution_count": 9,
      "outputs": [
        {
          "output_type": "stream",
          "name": "stdout",
          "text": [
            "Epoch 0: Loss = 26.350149999999996\n",
            "Epoch 200: Loss = 0.010683676986867955\n",
            "Epoch 400: Loss = 0.0027567180866680313\n",
            "Epoch 600: Loss = 0.0007113182679243853\n",
            "Epoch 800: Loss = 0.0001835420461489844\n"
          ]
        }
      ]
    },
    {
      "cell_type": "code",
      "source": [
        "# Step 8:test/Prediction\n",
        "\n",
        "print(\"Final Model: \")\n",
        "print(f\"m = {m}, b = {b}\")\n",
        "print(f\"Prediction for x = 8: y = {prediction(m,b,8)}\")"
      ],
      "metadata": {
        "colab": {
          "base_uri": "https://localhost:8080/"
        },
        "id": "O7BJnLWOEJsl",
        "outputId": "bd3a27b0-f740-427f-b611-52308e2eb0c4"
      },
      "execution_count": 10,
      "outputs": [
        {
          "output_type": "stream",
          "name": "stdout",
          "text": [
            "Final Model: \n",
            "m = 2.004483038508286, b = 0.9838148085246726\n",
            "Prediction for x = 8: y = 17.01967911659096\n"
          ]
        }
      ]
    }
  ]
}